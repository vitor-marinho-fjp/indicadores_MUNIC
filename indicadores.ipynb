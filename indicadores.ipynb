{
  "nbformat": 4,
  "nbformat_minor": 0,
  "metadata": {
    "colab": {
      "provenance": [],
      "authorship_tag": "ABX9TyMntClFMO4IrI1cG8GJo/b7",
      "include_colab_link": true
    },
    "kernelspec": {
      "name": "python3",
      "display_name": "Python 3"
    },
    "language_info": {
      "name": "python"
    }
  },
  "cells": [
    {
      "cell_type": "markdown",
      "metadata": {
        "id": "view-in-github",
        "colab_type": "text"
      },
      "source": [
        "<a href=\"https://colab.research.google.com/github/vitor-marinho-fjp/indicadores_MUNIC/blob/main/indicadores.ipynb\" target=\"_parent\"><img src=\"https://colab.research.google.com/assets/colab-badge.svg\" alt=\"Open In Colab\"/></a>"
      ]
    },
    {
      "cell_type": "code",
      "execution_count": 4,
      "metadata": {
        "id": "kKrxBHa5osDi",
        "colab": {
          "base_uri": "https://localhost:8080/",
          "height": 376
        },
        "outputId": "b7c1cc1a-bc3a-46ba-bc4c-f7e56b1dbe35"
      },
      "outputs": [
        {
          "output_type": "error",
          "ename": "AttributeError",
          "evalue": "'DataFrame' object has no attribute 'clean_names'",
          "traceback": [
            "\u001b[0;31m---------------------------------------------------------------------------\u001b[0m",
            "\u001b[0;31mAttributeError\u001b[0m                            Traceback (most recent call last)",
            "\u001b[0;32m<ipython-input-4-b0f7f8dca27a>\u001b[0m in \u001b[0;36m<cell line: 14>\u001b[0;34m()\u001b[0m\n\u001b[1;32m     12\u001b[0m \u001b[0;31m# script está salvo.\u001b[0m\u001b[0;34m\u001b[0m\u001b[0;34m\u001b[0m\u001b[0m\n\u001b[1;32m     13\u001b[0m \u001b[0mdados_imrs\u001b[0m \u001b[0;34m=\u001b[0m \u001b[0mpd\u001b[0m\u001b[0;34m.\u001b[0m\u001b[0mread_excel\u001b[0m\u001b[0;34m(\u001b[0m\u001b[0;34m\"/content/drive/MyDrive/imrs_esporte/IMRS2021 - BASE ESPORTE.xlsx\"\u001b[0m\u001b[0;34m,\u001b[0m \u001b[0msheet_name\u001b[0m\u001b[0;34m=\u001b[0m\u001b[0;36m0\u001b[0m\u001b[0;34m)\u001b[0m\u001b[0;34m\u001b[0m\u001b[0;34m\u001b[0m\u001b[0m\n\u001b[0;32m---> 14\u001b[0;31m \u001b[0mdados_icms\u001b[0m \u001b[0;34m=\u001b[0m \u001b[0mpd\u001b[0m\u001b[0;34m.\u001b[0m\u001b[0mread_excel\u001b[0m\u001b[0;34m(\u001b[0m\u001b[0;34m\"/content/drive/MyDrive/imrs_esporte/Dados_Basicos_Esportes_2022.xlsx\"\u001b[0m\u001b[0;34m,\u001b[0m \u001b[0msheet_name\u001b[0m\u001b[0;34m=\u001b[0m\u001b[0;36m0\u001b[0m\u001b[0;34m)\u001b[0m\u001b[0;34m.\u001b[0m\u001b[0mclean_names\u001b[0m\u001b[0;34m(\u001b[0m\u001b[0;34m)\u001b[0m\u001b[0;34m\u001b[0m\u001b[0;34m\u001b[0m\u001b[0m\n\u001b[0m\u001b[1;32m     15\u001b[0m \u001b[0mdados_quadra\u001b[0m \u001b[0;34m=\u001b[0m \u001b[0mpd\u001b[0m\u001b[0;34m.\u001b[0m\u001b[0mread_excel\u001b[0m\u001b[0;34m(\u001b[0m\u001b[0;34m\"/content/drive/MyDrive/imrs_esporte/ProcQuadras_2021.xlsx\"\u001b[0m\u001b[0;34m,\u001b[0m \u001b[0msheet_name\u001b[0m\u001b[0;34m=\u001b[0m\u001b[0;36m0\u001b[0m\u001b[0;34m)\u001b[0m\u001b[0;34m\u001b[0m\u001b[0;34m\u001b[0m\u001b[0m\n\u001b[1;32m     16\u001b[0m \u001b[0mdados_munic\u001b[0m \u001b[0;34m=\u001b[0m \u001b[0mpd\u001b[0m\u001b[0;34m.\u001b[0m\u001b[0mread_excel\u001b[0m\u001b[0;34m(\u001b[0m\u001b[0;34m\"/content/drive/MyDrive/imrs_esporte/Base_MUNIC_2021.xlsx\"\u001b[0m\u001b[0;34m,\u001b[0m \u001b[0msheet_name\u001b[0m\u001b[0;34m=\u001b[0m\u001b[0;36m6\u001b[0m\u001b[0;34m)\u001b[0m\u001b[0;34m.\u001b[0m\u001b[0mrename\u001b[0m\u001b[0;34m(\u001b[0m\u001b[0mcolumns\u001b[0m\u001b[0;34m=\u001b[0m\u001b[0;34m{\u001b[0m\u001b[0;36m1\u001b[0m\u001b[0;34m:\u001b[0m \u001b[0;34m\"IBGE7\"\u001b[0m\u001b[0;34m}\u001b[0m\u001b[0;34m)\u001b[0m\u001b[0;34m.\u001b[0m\u001b[0mquery\u001b[0m\u001b[0;34m(\u001b[0m\u001b[0;34m\"UF=='MG'\"\u001b[0m\u001b[0;34m)\u001b[0m\u001b[0;34m\u001b[0m\u001b[0;34m\u001b[0m\u001b[0m\n",
            "\u001b[0;32m/usr/local/lib/python3.10/dist-packages/pandas/core/generic.py\u001b[0m in \u001b[0;36m__getattr__\u001b[0;34m(self, name)\u001b[0m\n\u001b[1;32m   5900\u001b[0m         ):\n\u001b[1;32m   5901\u001b[0m             \u001b[0;32mreturn\u001b[0m \u001b[0mself\u001b[0m\u001b[0;34m[\u001b[0m\u001b[0mname\u001b[0m\u001b[0;34m]\u001b[0m\u001b[0;34m\u001b[0m\u001b[0;34m\u001b[0m\u001b[0m\n\u001b[0;32m-> 5902\u001b[0;31m         \u001b[0;32mreturn\u001b[0m \u001b[0mobject\u001b[0m\u001b[0;34m.\u001b[0m\u001b[0m__getattribute__\u001b[0m\u001b[0;34m(\u001b[0m\u001b[0mself\u001b[0m\u001b[0;34m,\u001b[0m \u001b[0mname\u001b[0m\u001b[0;34m)\u001b[0m\u001b[0;34m\u001b[0m\u001b[0;34m\u001b[0m\u001b[0m\n\u001b[0m\u001b[1;32m   5903\u001b[0m \u001b[0;34m\u001b[0m\u001b[0m\n\u001b[1;32m   5904\u001b[0m     \u001b[0;32mdef\u001b[0m \u001b[0m__setattr__\u001b[0m\u001b[0;34m(\u001b[0m\u001b[0mself\u001b[0m\u001b[0;34m,\u001b[0m \u001b[0mname\u001b[0m\u001b[0;34m:\u001b[0m \u001b[0mstr\u001b[0m\u001b[0;34m,\u001b[0m \u001b[0mvalue\u001b[0m\u001b[0;34m)\u001b[0m \u001b[0;34m->\u001b[0m \u001b[0;32mNone\u001b[0m\u001b[0;34m:\u001b[0m\u001b[0;34m\u001b[0m\u001b[0;34m\u001b[0m\u001b[0m\n",
            "\u001b[0;31mAttributeError\u001b[0m: 'DataFrame' object has no attribute 'clean_names'"
          ]
        }
      ],
      "source": [
        "import pandas as pd\n",
        "import numpy as np\n",
        "\n",
        "# IMRS Esporte ------------------------------------------------------------\n",
        "\n",
        "# Ano para o qual deseja-se obter os dados (ou seja, coloca-se o ano anterior ao atual)\n",
        "ano_dados = 2021\n",
        "\n",
        "# Bases -------------------------------------------------------------------\n",
        "\n",
        "# Aqui é realizada a leitura dos arquivos em formato .xlsx. Os arquivos deverão estar na mesma pasta em que o\n",
        "# script está salvo.\n",
        "dados_imrs = pd.read_excel(\"/content/drive/MyDrive/imrs_esporte/IMRS2021 - BASE ESPORTE.xlsx\", sheet_name=0)\n",
        "dados_icms = pd.read_excel(\"/content/drive/MyDrive/imrs_esporte/Dados_Basicos_Esportes_2022.xlsx\", sheet_name=0).clean_names()\n",
        "dados_quadra = pd.read_excel(\"/content/drive/MyDrive/imrs_esporte/ProcQuadras_2021.xlsx\", sheet_name=0)\n",
        "dados_munic = pd.read_excel(\"/content/drive/MyDrive/imrs_esporte/Base_MUNIC_2021.xlsx\", sheet_name=6).rename(columns={1: \"IBGE7\"}).query(\"UF=='MG'\")\n",
        "\n",
        "# Dados MUNIC -------------------------------------------------------------\n",
        "\n",
        "dados_munic = pd.read_excel(\"/content/drive/MyDrive/imrs_esporte/Base_MUNIC_2021.xlsx\", sheet_name=7).rename(columns={1: \"IBGE7\"}).query(\"UF=='MG'\").assign(ANO=2021)\n",
        "\n",
        "indicadores_munic = dados_munic[[\"IBGE7\", \"ANO\", \"Mesp22\", \"Mesp221\", \"Mesp18\", \"Mesp10\", \"Mesp01\"]].rename(\n",
        "    columns={\"Mesp22\": \"L_EQUI\", \"Mesp221\": \"L_QUANT\", \"Mesp18\": \"L_PARTESP\", \"Mesp10\": \"L_CONSESP\", \"Mesp01\": \"L_ORGESP\"})\n",
        "\n",
        "l_convesp = dados_munic.assign(L_CONVESP=lambda x: np.where(\n",
        "    (x[\"Mesp161\"] == \"Sim\") | (x[\"Mesp162\"] == \"Sim\") | (x[\"Mesp163\"] == \"Sim\") | (x[\"Mesp164\"] == \"Sim\"), \"Sim\", \"Não\"\n",
        ")).loc[:, [\"IBGE7\", \"L_CONVESP\"]]\n",
        "\n",
        "indicadores_munic = pd.merge(indicadores_munic, l_convesp, on=\"IBGE7\").drop(columns=[\"L_CONVESP\"])\n",
        "\n",
        "# criando CHAVE\n",
        "indicadores_munic[\"IBGE6\"] = indicadores_munic[\"IBGE7\"].astype(str).str[:-1].astype(float)\n",
        "indicadores_munic[\"CHAVE\"] = indicadores_munic[\"ANO\"].astype(str) + indicadores_munic[\"IBGE6\"].astype(str)\n",
        "\n",
        "# ICMS --------------------------------------------------------------------\n",
        "\n",
        "# Reconstrói o código IBGE\n",
        "indicadores_icms = dados_icms.assign(IBGE6=lambda x: x[\"ibge\"].astype(str).str.zfill(6).astype(float))\n",
        "\n",
        "# Cria a coluna de chave, usando o ano anterior\n",
        "indicadores_icms[\"CHAVE\"] = (ano_dados - 1) * 1000000 + indicadores_icms[\"IBGE6\"]\n",
        "\n",
        "# Assinalando não para os valores ausentes\n",
        "indicadores_icms[\"conselho_de_esportes\"] = np.where(indicadores_icms[\"conselho_de_esportes\"].isna(), \"NÃO\",\n",
        "                                                   indicadores_icms[\"conselho_de_esportes\"])\n",
        "\n",
        "# Cálculo do indicador L_PROGE\n",
        "indicadores_icms[\"L_PROGE\"] = np.where(\n",
        "    (indicadores_icms[\"conselho_de_esportes\"] == \"SIM\") & (~indicadores_icms[\"pontuacao_municipio_soma_das_atividades_do_municipio\"].isna()),\n",
        "    indicadores_icms[\"pontuacao_municipio_soma_das_atividades_do_municipio\"] / indicadores_icms[\"peso_da_rcl\"], 0)\n",
        "\n",
        "# L_ILRHE - Participação percentual em atividades esportivas habilitadas no critério esporte do ICMS Solidário\n",
        "indicadores_icms[\"L_ILRHE\"] = np.where(\n",
        "    (indicadores_icms[\"conselho_de_esportes\"] == \"SIM\") & (~indicadores_icms[\"pontuacao_municipio_soma_das_atividades_do_municipio\"].isna()),\n",
        "    (indicadores_icms[\"pontuacao_municipio_soma_das_atividades_do_municipio\"] / indicadores_icms[\"soma_pontuacao_municipios_mg\"]) * 100, 0)\n",
        "\n",
        "# Selecionar colunas relevantes\n",
        "indicadores_icms = indicadores_icms[[\"IBGE6\", \"L_PROGE\", \"L_ILRHE\"]]\n",
        "\n",
        "# Juntar bases\n",
        "indicadores = pd.merge(indicadores_munic, indicadores_icms, on=\"IBGE6\")\n",
        "\n",
        "# IDEB --------------------------------------------------------------------\n",
        "\n",
        "# L_ESPESC - Percentual de alunos em escolas com quadra de esporte\n",
        "dados_quadra.columns = [\"IBGE7\", \"pquadras\"]\n",
        "ind_qdr = pd.merge(indicadores, dados_quadra, on=\"IBGE7\")\n",
        "indicadores = ind_qdr.assign(L_ESPESC=ind_qdr[\"pquadras\"]).drop(columns=[\"pquadras\"])\n",
        "\n",
        "# Ajustar e exporta a base ------------------------------------------------\n",
        "\n",
        "indicadores = indicadores[[\"CHAVE\", \"IBGE6\", \"IBGE7\", \"ANO\", \"L_EQUI\", \"L_QUANT\", \"L_PARTESP\", \"L_PROGE\", \"L_ESPESC\", \"L_ILRHE\",\n",
        "                           \"L_CONSESP\", \"L_ORGESP\", \"L_CONVESP\"]]\n",
        "\n",
        "# Arredondando todas as colunas numéricas para duas casas decimais\n",
        "indicadores = indicadores.round(decimals=2)\n",
        "\n",
        "# Juntar com a base histórica do IMRS\n",
        "dados_imrs = pd.concat([dados_imrs, indicadores])\n",
        "\n",
        "# Exportar apenas os indicadores calculados\n",
        "indicadores.to_excel(\"/content/drive/MyDrive/imrs_esporte/imrs_esporte_2021.xlsx\", index=False)\n"
      ]
    }
  ]
}